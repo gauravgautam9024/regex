{
 "cells": [
  {
   "cell_type": "code",
   "execution_count": null,
   "id": "81fcd91f-89ff-49ce-80c7-60a566ffe069",
   "metadata": {},
   "outputs": [],
   "source": [
    "\"\"\"Regex (regular expression) in python its very powerful tool in python its use to match the pattern of the word\n",
    "and their digit and we use regex module in py \"\"\""
   ]
  },
  {
   "cell_type": "code",
   "execution_count": 5,
   "id": "cc05d6de-f7e9-4934-acb7-27056760ac53",
   "metadata": {},
   "outputs": [
    {
     "name": "stdout",
     "output_type": "stream",
     "text": [
      "this is match  abd\n"
     ]
    }
   ],
   "source": [
    "#1. caret(^)  its use in string start match pattern \n",
    "import re\n",
    "pattern = \"^abd\"\n",
    "text = \"abdio\"\n",
    "match = re.search(pattern,text)\n",
    "if match:\n",
    "    print(\"this is match \",match.group())\n",
    "else:\n",
    "    print(\"not match\")"
   ]
  },
  {
   "cell_type": "code",
   "execution_count": 8,
   "id": "9d0be4d7-8583-4e64-8d09-6f0889bc60c0",
   "metadata": {},
   "outputs": [
    {
     "name": "stdout",
     "output_type": "stream",
     "text": [
      "this is match  abd\n"
     ]
    }
   ],
   "source": [
    "#2.  dollar($) its use to find and matching in backside\n",
    "import re\n",
    "pattern = \"abd$\"\n",
    "text = \"aaabd\"\n",
    "match = re.search(pattern,text)\n",
    "if match:\n",
    "    print(\"this is match \",match.group())\n",
    "else:\n",
    "    print(\"not match\")"
   ]
  },
  {
   "cell_type": "code",
   "execution_count": 12,
   "id": "b87cf177-8cc0-4c5b-85d0-29b57c63c6c0",
   "metadata": {},
   "outputs": [
    {
     "name": "stdout",
     "output_type": "stream",
     "text": [
      "this is match   ram\n"
     ]
    }
   ],
   "source": [
    "#3.  word boundary(\\b) its matching boundary of the world\n",
    "pattern = r\"\\b ram\\b\"\n",
    "text = \"this is ram\"\n",
    "match = re.search(pattern,text)\n",
    "if match:\n",
    "    print(\"this is match \",match.group())\n",
    "else:\n",
    "    print(\"not match\")"
   ]
  },
  {
   "cell_type": "code",
   "execution_count": 16,
   "id": "a6598d42-506c-4739-85c3-55e90c0783b9",
   "metadata": {},
   "outputs": [
    {
     "name": "stdout",
     "output_type": "stream",
     "text": [
      "this is match  ram\n"
     ]
    }
   ],
   "source": [
    "#4.   non word boundary(\\B)\n",
    "pattern = r\"\\Bram\\B\"\n",
    "#text = \"this is ram\"\n",
    "text = \"hisnameisramandsyan\"\n",
    "match = re.search(pattern,text)\n",
    "if match:\n",
    "    print(\"this is match \",match.group())\n",
    "else:\n",
    "    print(\"not match\")"
   ]
  },
  {
   "cell_type": "code",
   "execution_count": 22,
   "id": "d32c245c-bb2b-4497-83f8-c3169162bb2d",
   "metadata": {},
   "outputs": [
    {
     "name": "stdout",
     "output_type": "stream",
     "text": [
      "[]\n"
     ]
    }
   ],
   "source": [
    "\"\"\"lookhead only check condition but they not part of result and its check x and y but not return y\"\"\"\n",
    "#5. positive lookahead(?=)\n",
    "pattern = r\"a(?=c)\"\n",
    "text = \"bca ab acb\"\n",
    "match = re.findall(pattern,text)\n",
    "print(match)\n",
    "\n",
    "\n",
    "# nagative lookhead(?!)\n",
    "pattern = r\"a(?!c)\"\n",
    "text = \"bca ab acb\"\n",
    "match = re.findall(pattern,text)\n",
    "print(match)"
   ]
  },
  {
   "cell_type": "code",
   "execution_count": null,
   "id": "55b04d98-de63-4e47-856e-41f6fb791da0",
   "metadata": {},
   "outputs": [],
   "source": [
    "pattern = \"^(?!0)\\d{9}$\"\n",
    "text1 = \"034356234\"\n",
    "text = \"787767892\"\n",
    "match = re.match(pattern,text1)\n",
    "print(\"valid\" if re.match(pattern,text) else \"not number\")\n",
    "print(\"valid\" if re.match(pattern,text1) else \"not number\")\n"
   ]
  },
  {
   "cell_type": "code",
   "execution_count": 34,
   "id": "747c5956-4d62-4bd8-a9c7-1338091b809d",
   "metadata": {},
   "outputs": [
    {
     "name": "stdout",
     "output_type": "stream",
     "text": [
      "not\n"
     ]
    }
   ],
   "source": [
    "# [] square brackets match\n",
    "pattern = r\"[abc]\"\n",
    "text = \"this is  ashish\"\n",
    "match = re.search(pattern,text)\n",
    "print(match.group() if re.search(pattern,text) else \"not\")"
   ]
  },
  {
   "cell_type": "code",
   "execution_count": 35,
   "id": "8beaeb9f-5b30-49c6-abbb-5299c03ac661",
   "metadata": {},
   "outputs": [
    {
     "name": "stdout",
     "output_type": "stream",
     "text": [
      "t\n"
     ]
    }
   ],
   "source": [
    "# [a-z] range of character\n",
    "pattern = r\"[a-z]\"\n",
    "text = \"this is  ashish\"\n",
    "match = re.search(pattern,text)\n",
    "print(match.group() if re.search(pattern,text) else \"not\")"
   ]
  },
  {
   "cell_type": "code",
   "execution_count": 36,
   "id": "0f2fc6b2-0014-4670-9c0e-0347df83c6db",
   "metadata": {},
   "outputs": [
    {
     "name": "stdout",
     "output_type": "stream",
     "text": [
      "I\n"
     ]
    }
   ],
   "source": [
    "#[A-Z] range of character\n",
    "pattern = r\"[A-Z]\"\n",
    "text = \"this Is  ashish\"\n",
    "match = re.search(pattern,text)\n",
    "print(match.group() if re.search(pattern,text) else \"not\")"
   ]
  },
  {
   "cell_type": "code",
   "execution_count": 37,
   "id": "25e336a0-cd40-483f-a615-37b7fbf12c92",
   "metadata": {},
   "outputs": [
    {
     "name": "stdout",
     "output_type": "stream",
     "text": [
      "9\n"
     ]
    }
   ],
   "source": [
    "# [0-9] digit\n",
    "pattern = r\"[0-9]\"\n",
    "text = \"this 98773\"\n",
    "match = re.search(pattern,text)\n",
    "print(match.group() if re.search(pattern,text) else \"not\")"
   ]
  },
  {
   "cell_type": "code",
   "execution_count": 38,
   "id": "ab513484-f6b7-4fb3-b5c9-1f46e11330ea",
   "metadata": {},
   "outputs": [
    {
     "name": "stdout",
     "output_type": "stream",
     "text": [
      "d\n"
     ]
    }
   ],
   "source": [
    "# negation[^....]\n",
    "pattern = r\"[^abc]\"\n",
    "text = \"abcd this\"\n",
    "match = re.search(pattern,text)\n",
    "print(match.group() if re.search(pattern,text) else \"not\")"
   ]
  },
  {
   "cell_type": "code",
   "execution_count": 6,
   "id": "8727e027-2863-4cc6-8c49-55c2ecdb16c5",
   "metadata": {},
   "outputs": [],
   "source": [
    "# character sets specail characters\n",
    "import re\n",
    "pattern = r\"[@#]\"\n",
    "text = input(\"enter \")\n",
    "for texts in text:\n",
    "    match = re.search(pattern,text)\n",
    "    if match:\n",
    "        print(\"Match Found :\")\n",
    "    else:\n",
    "        print(\"not found\")"
   ]
  },
  {
   "cell_type": "code",
   "execution_count": 7,
   "id": "beea065e-7f04-4026-b51e-a65063dc100b",
   "metadata": {},
   "outputs": [
    {
     "name": "stdin",
     "output_type": "stream",
     "text": [
      "enter  this\n"
     ]
    },
    {
     "name": "stdout",
     "output_type": "stream",
     "text": [
      "match found : t\n"
     ]
    }
   ],
   "source": [
    "# multiple ranges\n",
    "pattern = r\"[a-zA-Z1-9]\"\n",
    "text = input(\"enter \")\n",
    "match = re.search(pattern,text)\n",
    "if match:\n",
    "    print(\"match found :\",match.group())"
   ]
  },
  {
   "cell_type": "code",
   "execution_count": 13,
   "id": "b71b1c64-bd6b-4dfd-a810-e69036ccca14",
   "metadata": {},
   "outputs": [
    {
     "name": "stdout",
     "output_type": "stream",
     "text": [
      "match found : acb\n"
     ]
    }
   ],
   "source": [
    "\"\"\" Meta Characterss \"\"\"\n",
    "# 1. (.)\n",
    "pattern = r\"a.b\"\n",
    "text = \"acb\"\n",
    "text1 = \"abc\"\n",
    "match = re.search(pattern,text)\n",
    "match1 = re.search(pattern,text1)\n",
    "if match:\n",
    "    print(\"match found :\",match.group())\n",
    "if match1:\n",
    "    print(\"match found :\",match.group())"
   ]
  },
  {
   "cell_type": "code",
   "execution_count": 17,
   "id": "236a241a-a03c-4189-9261-63d1c1c25c56",
   "metadata": {},
   "outputs": [],
   "source": [
    "# 2. \\ (backslash)\n",
    "pattern = r\"a\\@b\"\n",
    "text = \"a@b\"\n",
    "match = re.search(pattern,text)\n",
    "if match:\n",
    "    print(\"match found :\",match.group())"
   ]
  },
  {
   "cell_type": "code",
   "execution_count": 22,
   "id": "4ada958c-ef97-4eeb-aad6-8409bf1c5f98",
   "metadata": {},
   "outputs": [
    {
     "name": "stdout",
     "output_type": "stream",
     "text": [
      "match found : bc\n"
     ]
    }
   ],
   "source": [
    "# 3. *(asterisk)\n",
    "pattern = r\"a*bc\"\n",
    "text = \"adbc\"\n",
    "match = re.search(pattern,text)\n",
    "if match:\n",
    "    print(\"match found :\",match.group())"
   ]
  },
  {
   "cell_type": "code",
   "execution_count": 26,
   "id": "75381794-0717-478b-8c52-f802f6cb942e",
   "metadata": {},
   "outputs": [],
   "source": [
    "# 4. +(plus)\n",
    "pattern = r\"ab+c\"\n",
    "text = \"abbc\"\n",
    "match = re.search(pattern,text)\n",
    "if match:\n",
    "    print(\"match found :\",match.group())"
   ]
  },
  {
   "cell_type": "code",
   "execution_count": 31,
   "id": "6539c37b-378e-4fd2-ba1b-a24e58fcb179",
   "metadata": {},
   "outputs": [
    {
     "name": "stdout",
     "output_type": "stream",
     "text": [
      "match found : abbc\n"
     ]
    }
   ],
   "source": [
    "# 5. {} (braces)\n",
    "pattern = r\"ab{2}c\"\n",
    "text = \"abbc\"\n",
    "match = re.search(pattern,text)\n",
    "if match:\n",
    "    print(\"match found :\",match.group())"
   ]
  },
  {
   "cell_type": "code",
   "execution_count": 32,
   "id": "efd78a74-ff7b-43d2-ae93-0dd0fc4da852",
   "metadata": {},
   "outputs": [
    {
     "name": "stdout",
     "output_type": "stream",
     "text": [
      "match found : a\n"
     ]
    }
   ],
   "source": [
    "# 6. |  pip\n",
    "pattern = r\"a|b|c\"\n",
    "text = \"adbc\"\n",
    "match = re.search(pattern,text)\n",
    "if match:\n",
    "    print(\"match found :\",match.group())"
   ]
  },
  {
   "cell_type": "code",
   "execution_count": 34,
   "id": "509aa20d-3a53-43b6-b857-ea504b57a2c0",
   "metadata": {},
   "outputs": [
    {
     "name": "stdout",
     "output_type": "stream",
     "text": [
      "match found : ab\n"
     ]
    }
   ],
   "source": [
    "# 7. () (parentheses)\n",
    "pattern = r\"(ab)\"\n",
    "text = \"ab\"\n",
    "match = re.search(pattern,text)\n",
    "if match:\n",
    "    print(\"match found :\",match.group())"
   ]
  },
  {
   "cell_type": "code",
   "execution_count": 40,
   "id": "b7632d4a-16c7-4bc4-a47b-87629f5698c7",
   "metadata": {},
   "outputs": [
    {
     "name": "stdout",
     "output_type": "stream",
     "text": [
      "match found : 122357544\n"
     ]
    }
   ],
   "source": [
    "# 8. \\d (digit)\n",
    "pattern = r\"\\d{3,}\"\n",
    "text = \"122357544\"\n",
    "match = re.search(pattern,text)\n",
    "if match:\n",
    "    print(\"match found :\",match.group())"
   ]
  },
  {
   "cell_type": "code",
   "execution_count": 41,
   "id": "eb4e8f52-dc4d-452f-8c65-b10ad19c7782",
   "metadata": {},
   "outputs": [
    {
     "name": "stdout",
     "output_type": "stream",
     "text": [
      "match found : adbc\n"
     ]
    }
   ],
   "source": [
    "# 9. \\D (non -digit)\n",
    "pattern = r\"\\D{3,}\"\n",
    "text = \"adbc12344\"\n",
    "match = re.search(pattern,text)\n",
    "if match:\n",
    "    print(\"match found :\",match.group())"
   ]
  },
  {
   "cell_type": "code",
   "execution_count": 43,
   "id": "9d2e8170-b29b-481c-b6aa-97301fa3b085",
   "metadata": {},
   "outputs": [
    {
     "name": "stdout",
     "output_type": "stream",
     "text": [
      "match found :  \n"
     ]
    }
   ],
   "source": [
    "# 10. \\s(whitespace)\n",
    "pattern = r\"\\s+\"\n",
    "text = \"this is \"\n",
    "match = re.search(pattern,text)\n",
    "if match:\n",
    "    print(\"match found :\",match.group())"
   ]
  },
  {
   "cell_type": "code",
   "execution_count": 48,
   "id": "4f7cd30c-423d-400f-a78b-1cf1a9acd4ad",
   "metadata": {},
   "outputs": [
    {
     "name": "stdout",
     "output_type": "stream",
     "text": [
      "match found : thisis\n"
     ]
    }
   ],
   "source": [
    "# 11. \\S(non -whitespace)\n",
    "pattern = r\"\\S+\"\n",
    "text = \"thisis\"\n",
    "match = re.search(pattern,text)\n",
    "if match:\n",
    "    print(\"match found :\",match.group())"
   ]
  },
  {
   "cell_type": "code",
   "execution_count": 52,
   "id": "54bfdd4b-4cec-4086-9d65-1066cf5f9f4f",
   "metadata": {},
   "outputs": [
    {
     "name": "stdout",
     "output_type": "stream",
     "text": [
      "match found : abbc\n",
      "match found : abbbc\n",
      "match found : abbc\n"
     ]
    }
   ],
   "source": [
    "\"\"\" Quentifiers its also part of regex and its use to specify for perceding \"\"\"\n",
    "pattern = r\"ab{2}c\"\n",
    "text = \"abbc\"\n",
    "match = re.search(pattern,text)\n",
    "if match:\n",
    "    print(\"match found :\",match.group())\n",
    "\n",
    "\"\"\"at list n time \"\"\"\n",
    "\n",
    "pattern = r\"ab{2,}c\"\n",
    "text = \"abbbc\"\n",
    "match = re.search(pattern,text)\n",
    "if match:\n",
    "    print(\"match found :\",match.group())\n",
    "\n",
    "\n",
    "\"\"\"between in range \"\"\"\n",
    "\n",
    "pattern = r\"ab{2,5}c\"\n",
    "text = \"abbc\"\n",
    "match = re.search(pattern,text)\n",
    "if match:\n",
    "    print(\"match found :\",match.group())"
   ]
  },
  {
   "cell_type": "code",
   "execution_count": 58,
   "id": "d2aba802-4ed3-404e-97d1-76bc4f35b5c9",
   "metadata": {},
   "outputs": [
    {
     "name": "stdout",
     "output_type": "stream",
     "text": [
      "match found : ab\n",
      "match found : ac\n",
      "match found : ac\n",
      "match found : ab\n"
     ]
    }
   ],
   "source": [
    "# Grouping repetation\n",
    "pattern = r\"(ab)+\"\n",
    "text = \"abcabcbab\"\n",
    "match = re.search(pattern,text)\n",
    "if match:\n",
    "    print(\"match found :\",match.group())\n",
    "\n",
    "\n",
    "pattern = r\"(a)(c)\"\n",
    "text = \"ac\"\n",
    "match = re.search(pattern,text)\n",
    "if match:\n",
    "    print(\"match found :\",match.group())\n",
    "    print(\"match found :\",match.group())\n",
    "\n",
    "# non Grouping repetation\n",
    "pattern = r\"(?:ab)+\"\n",
    "text = \"abcabcbab\"\n",
    "match = re.search(pattern,text)\n",
    "if match:\n",
    "    print(\"match found :\",match.group())"
   ]
  },
  {
   "cell_type": "code",
   "execution_count": 60,
   "id": "46ea4094-5585-4e94-a39d-b9c7d2167380",
   "metadata": {},
   "outputs": [
    {
     "name": "stdout",
     "output_type": "stream",
     "text": [
      "match found : a123b2344b\n"
     ]
    }
   ],
   "source": [
    "\"\"\" Greedy matching \"\"\"\n",
    "pattern = r\"a.*b\"\n",
    "text = \"a123b2344b\"\n",
    "match = re.search(pattern,text)\n",
    "if match:\n",
    "    print(\"match found :\",match.group())"
   ]
  },
  {
   "cell_type": "code",
   "execution_count": 61,
   "id": "3db842a5-9468-4cae-b5c2-fe18e47bc7c8",
   "metadata": {},
   "outputs": [
    {
     "name": "stdout",
     "output_type": "stream",
     "text": [
      "match found : a123b\n"
     ]
    }
   ],
   "source": [
    "\"\"\" Non Greedy matching \"\"\"\n",
    "pattern = r\"a.*?b\"\n",
    "text = \"a123b2344b\"\n",
    "match = re.search(pattern,text)\n",
    "if match:\n",
    "    print(\"match found :\",match.group())"
   ]
  },
  {
   "cell_type": "code",
   "execution_count": null,
   "id": "4e47e3dd-56da-48d8-b3ba-0b9c983d8a42",
   "metadata": {},
   "outputs": [],
   "source": []
  }
 ],
 "metadata": {
  "kernelspec": {
   "display_name": "Python 3 (ipykernel)",
   "language": "python",
   "name": "python3"
  },
  "language_info": {
   "codemirror_mode": {
    "name": "ipython",
    "version": 3
   },
   "file_extension": ".py",
   "mimetype": "text/x-python",
   "name": "python",
   "nbconvert_exporter": "python",
   "pygments_lexer": "ipython3",
   "version": "3.13.7"
  }
 },
 "nbformat": 4,
 "nbformat_minor": 5
}
